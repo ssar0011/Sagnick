{
 "cells": [
  {
   "cell_type": "code",
   "execution_count": 15,
   "metadata": {},
   "outputs": [
    {
     "name": "stdout",
     "output_type": "stream",
     "text": [
      "[10, 5, 4, 3, 1]\n"
     ]
    }
   ],
   "source": [
    "def leftMinHeapify(A,left,initial,heapsize):\n",
    "    if left < heapsize and A[left] < A[initial]:\n",
    "        minimum = left\n",
    "    else:\n",
    "        minimum = initial\n",
    "    return minimum\n",
    "'''    \n",
    "def swapHeapify(array,small,i):\n",
    "    if small != i:\n",
    "        temp = array[i]\n",
    "        array[i] = array[small]\n",
    "        array[small] = temp\n",
    "    return array\n",
    "'''\n",
    "\n",
    "def minHeapify(array,i,heapsize):\n",
    "    l = 2*i + 1\n",
    "    r = 2*i + 2\n",
    "    smallest = leftMinHeapify(array,l,i,heapsize)\n",
    "    if r < heapsize and array[r] < array[smallest]:\n",
    "        smallest = r\n",
    "    #A = swapHeapify(array,smallest,i)\n",
    "    if smallest != i:\n",
    "        temp = array[i]\n",
    "        array[i] = array[smallest]\n",
    "        array[smallest] = temp\n",
    "        minHeapify(array,smallest,heapsize)\n",
    "    \n",
    "\n",
    "def buildMinHeap(array):\n",
    "    heap_size = len(array)\n",
    "    for i in reversed(range(0,len(array)//2)):\n",
    "        minHeapify(array,i,heap_size)\n",
    "\n",
    "def Heapsort(array):\n",
    "    buildMinHeap(array)\n",
    "    n = len(array)\n",
    "    for i in reversed(range(0,n)):\n",
    "        temp = array[0]\n",
    "        array[0] = array[i]\n",
    "        array[i] = temp\n",
    "        n-=1\n",
    "        minHeapify(array,0,n)\n",
    "    return array\n",
    "\n",
    "lst = [4, 10, 3, 5, 1]\n",
    "print(Heapsort(lst))\n",
    "\n",
    "        \n",
    "        "
   ]
  },
  {
   "cell_type": "code",
   "execution_count": 7,
   "metadata": {},
   "outputs": [
    {
     "name": "stdout",
     "output_type": "stream",
     "text": [
      "0\n",
      "1\n",
      "2\n",
      "3\n",
      "4\n",
      "5\n",
      "6\n",
      "7\n",
      "8\n",
      "9\n",
      "\n",
      "\n",
      "9\n",
      "8\n",
      "7\n",
      "6\n",
      "5\n",
      "4\n",
      "3\n",
      "2\n",
      "1\n",
      "0\n"
     ]
    }
   ],
   "source": [
    "for i in range(0,10):\n",
    "    print(i)\n",
    "print('\\n')\n",
    "for i in reversed(range(0,10)):\n",
    "    print(i)"
   ]
  },
  {
   "cell_type": "code",
   "execution_count": 3,
   "metadata": {},
   "outputs": [
    {
     "name": "stdout",
     "output_type": "stream",
     "text": [
      "4\n",
      "3\n"
     ]
    }
   ],
   "source": [
    "a = 3\n",
    "b = 4\n",
    "\n",
    "temp = a\n",
    "a = b\n",
    "b = temp\n",
    "\n",
    "print(a)\n",
    "print(b)"
   ]
  },
  {
   "cell_type": "code",
   "execution_count": null,
   "metadata": {},
   "outputs": [],
   "source": []
  }
 ],
 "metadata": {
  "kernelspec": {
   "display_name": "Python 3",
   "language": "python",
   "name": "python3"
  },
  "language_info": {
   "codemirror_mode": {
    "name": "ipython",
    "version": 3
   },
   "file_extension": ".py",
   "mimetype": "text/x-python",
   "name": "python",
   "nbconvert_exporter": "python",
   "pygments_lexer": "ipython3",
   "version": "3.6.4"
  }
 },
 "nbformat": 4,
 "nbformat_minor": 2
}
