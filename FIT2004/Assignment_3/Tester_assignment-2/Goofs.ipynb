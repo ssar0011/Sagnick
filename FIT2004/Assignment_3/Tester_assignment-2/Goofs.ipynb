{
 "cells": [
  {
   "cell_type": "code",
   "execution_count": 4,
   "metadata": {},
   "outputs": [
    {
     "name": "stdout",
     "output_type": "stream",
     "text": [
      "['cabcbcd', 'abcbcd', 'bcbcd', 'cbcd', 'bcd', 'cd']\n",
      "['cabcbcd', 'cabcbc', 'cabcb', 'cabc', 'cab', 'ca']\n"
     ]
    }
   ],
   "source": [
    "string = \"cabcbcd\"\n",
    "\n",
    "suffix_array = []\n",
    "prefix_array = []\n",
    "suffix = 0\n",
    "while suffix < len(string)-1:\n",
    "    suffix_array.append(string[suffix:len(string)])\n",
    "    suffix += 1\n",
    "print(suffix_array)\n",
    "prefix = len(string)\n",
    "while prefix > 1:\n",
    "    prefix_array.append(string[0:prefix])\n",
    "    prefix-=1\n",
    "print(prefix_array)"
   ]
  },
  {
   "cell_type": "code",
   "execution_count": 3,
   "metadata": {},
   "outputs": [
    {
     "name": "stdout",
     "output_type": "stream",
     "text": [
      "ba\n",
      "['ba', 'cba']\n"
     ]
    }
   ],
   "source": [
    "string = \"bcba\"\n",
    "print(string[2:len(string)])\n",
    "prefix = []\n",
    "counter = len(string)-2\n",
    "while counter >= 0:\n",
    "    prefix.append(string[counter:len(string)])\n",
    "    counter-=1\n",
    "print(prefix)"
   ]
  },
  {
   "cell_type": "code",
   "execution_count": 7,
   "metadata": {},
   "outputs": [
    {
     "name": "stdout",
     "output_type": "stream",
     "text": [
      "[0, 2, 3, 4, 7]\n",
      "0\n"
     ]
    }
   ],
   "source": [
    "lst1 = [0,3,4,2]\n",
    "lst2 = [0,4,2,7]\n",
    "lst3 = lst1+lst2\n",
    "lst3 = list(set(lst3))\n",
    "print(lst3)\n",
    "print(lst3[0])"
   ]
  },
  {
   "cell_type": "code",
   "execution_count": 1,
   "metadata": {},
   "outputs": [
    {
     "name": "stdout",
     "output_type": "stream",
     "text": [
      "[['en', 11], ['lo', 20], ['ne', 6], ['no', 18], ['ol', 19], ['olo', 19], ['on', 5]]\n"
     ]
    }
   ],
   "source": [
    "lst = [['on', 5], ['ne', 6], ['en', 11], ['no', 18], ['ol', 19], ['lo', 20], ['olo', 19]]\n",
    "lst1 = sorted(lst)\n",
    "print(lst1)"
   ]
  },
  {
   "cell_type": "code",
   "execution_count": null,
   "metadata": {},
   "outputs": [],
   "source": [
    "class TrieNode(object):\n",
    "\n",
    "    def __init__(self, char):\n",
    "        self.character = char\n",
    "        self.children = []\n",
    "        self.word_finished = False\n",
    "        self.idx = []\n",
    "        self.substr = []\n",
    "        self.records = []\n",
    "        self.query_count = 0\n",
    "        \n",
    "def query"
   ]
  }
 ],
 "metadata": {
  "kernelspec": {
   "display_name": "Python 3",
   "language": "python",
   "name": "python3"
  },
  "language_info": {
   "codemirror_mode": {
    "name": "ipython",
    "version": 3
   },
   "file_extension": ".py",
   "mimetype": "text/x-python",
   "name": "python",
   "nbconvert_exporter": "python",
   "pygments_lexer": "ipython3",
   "version": "3.6.4"
  }
 },
 "nbformat": 4,
 "nbformat_minor": 2
}
